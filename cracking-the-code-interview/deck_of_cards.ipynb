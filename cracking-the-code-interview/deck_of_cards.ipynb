{
 "cells": [
  {
   "cell_type": "markdown",
   "source": [
    "## Deck of Cards \n",
    "### Design the data structures for a generic deck of cards. Explain how you would subclass the data structures to implement blackjack."
   ],
   "metadata": {}
  },
  {
   "cell_type": "markdown",
   "source": [
    "### Card Class"
   ],
   "metadata": {}
  },
  {
   "cell_type": "code",
   "execution_count": null,
   "source": [
    "class Card:\n",
    "\n",
    "    def __init__(self, number, suit):\n",
    "        self.number, self.suit = number, suit"
   ],
   "outputs": [],
   "metadata": {}
  },
  {
   "cell_type": "markdown",
   "source": [
    "### CardDeck Class"
   ],
   "metadata": {}
  },
  {
   "cell_type": "code",
   "execution_count": null,
   "source": [
    "class CardDeck:\n",
    "\n",
    "    def __init__(self, cards):\n",
    "\n",
    "    def shuffle(self):\n",
    "\n",
    "    def draw_card(self):\n",
    "    "
   ],
   "outputs": [],
   "metadata": {}
  },
  {
   "cell_type": "markdown",
   "source": [
    "### BlackjackHand Class"
   ],
   "metadata": {}
  },
  {
   "cell_type": "code",
   "execution_count": null,
   "source": [
    "class BlackjackHand"
   ],
   "outputs": [],
   "metadata": {}
  },
  {
   "cell_type": "markdown",
   "source": [],
   "metadata": {}
  }
 ],
 "metadata": {
  "orig_nbformat": 4,
  "language_info": {
   "name": "python"
  }
 },
 "nbformat": 4,
 "nbformat_minor": 2
}