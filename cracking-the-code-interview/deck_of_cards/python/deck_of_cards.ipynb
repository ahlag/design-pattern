{
 "cells": [
  {
   "cell_type": "markdown",
   "source": [
    "## Deck of Cards \n",
    "### Design the data structures for a generic deck of cards. Explain how you would subclass the data structures to implement blackjack."
   ],
   "metadata": {}
  },
  {
   "cell_type": "markdown",
   "source": [
    "### Card Class"
   ],
   "metadata": {}
  },
  {
   "cell_type": "code",
   "execution_count": 1,
   "source": [
    "class Card:\n",
    "\n",
    "    def __init__(self, number, suit):\n",
    "        self.number, self.suit = number, suit"
   ],
   "outputs": [],
   "metadata": {}
  },
  {
   "cell_type": "markdown",
   "source": [
    "### CardDeck Class"
   ],
   "metadata": {}
  },
  {
   "cell_type": "code",
   "execution_count": 2,
   "source": [
    "import random\n",
    "\n",
    "class CardDeck:\n",
    "\n",
    "    def __init__(self, cards):\n",
    "\n",
    "        if cards:\n",
    "            self.cards = cards\n",
    "        else:\n",
    "            self.cards = []\n",
    "\n",
    "    def shuffle(self):\n",
    "\n",
    "        for i in range(len(self.cards)):\n",
    "            o = random.randint(i)\n",
    "            self.cards[i], self.cards[o] = self.cards[o], self.cards[i]\n",
    "\n",
    "    def draw_card(self):\n",
    "        return self.cards.pop() if len(self.cards) != 0 else Card(-1, None)"
   ],
   "outputs": [],
   "metadata": {}
  },
  {
   "cell_type": "markdown",
   "source": [
    "### BlackjackHand Class"
   ],
   "metadata": {}
  },
  {
   "cell_type": "code",
   "execution_count": 3,
   "source": [
    "class BlackjackHand(CardDeck):\n",
    "    \n",
    "    def __init___(self, cards):\n",
    "        self.cards = cards\n",
    "    \n",
    "    def value(self):\n",
    "        value, aces = 0, 0\n",
    "        \n",
    "        while True:\n",
    "            card = self.cards.draw_card()\n",
    "            if card.suit is None:\n",
    "                break\n",
    "            elif card.number == 1:\n",
    "                aces += 1\n",
    "            \n",
    "            # J, Q, K is counted as 10\n",
    "            value += min(card.number, 10)\n",
    "            \n",
    "        while value <= 11 and aces > 0:\n",
    "            value += 10\n",
    "            aces -= 1\n",
    "            \n",
    "        return value"
   ],
   "outputs": [],
   "metadata": {}
  },
  {
   "cell_type": "code",
   "execution_count": 4,
   "source": [
    "deck = CardDeck([Card(2, 'Hearts'), Card(4, 'Clubs')]) \n",
    "card = deck.draw_card()\n",
    "print('number : ', card.number, ' suit : ', card.suit) # 最後に入力したカードがpopされる\n",
    "\n",
    "card = deck.draw_card()\n",
    "print('number : ', card.number, ' suit : ', card.suit)\n",
    "\n",
    "card = deck.draw_card()\n",
    "print('number : ', card.number, ' suit : ', card.suit)"
   ],
   "outputs": [
    {
     "output_type": "stream",
     "name": "stdout",
     "text": [
      "number :  4  suit :  Clubs\n",
      "number :  2  suit :  Hearts\n",
      "number :  -1  suit :  None\n"
     ]
    }
   ],
   "metadata": {}
  },
  {
   "cell_type": "code",
   "execution_count": 14,
   "source": [
    "import unittest\n",
    "\n",
    "class Test(unittest.TestCase):\n",
    "    def test_card_deck(self):\n",
    "        deck = CardDeck([Card(2, \"Hearts\"), Card(4, \"Clubs\")])\n",
    "        self.assertEqual(deck.draw_card().suit, \"Clubs\")\n",
    "\n",
    "    def test_blackjack_hand(self):\n",
    "        hand = BlackjackHand([Card(5,\"Diamonds\"), Card(7,\"Clubs\")])\n",
    "        self.assertEqual(hand.value(), 12)\n",
    "        hand = BlackjackHand([Card(5,\"Diamonds\"), Card(1,\"Clubs\")])\n",
    "        self.assertEqual(hand.value(), 16)\n",
    "        hand = BlackjackHand([Card(12,\"Diamonds\"),Card(1,\"Clubs\")])\n",
    "        self.assertEqual(hand.value(), 21)\n",
    "        hand = BlackjackHand([Card(12,\"Diamonds\"),Card(1,\"Clubs\"),Card(1,\"Hearts\")])\n",
    "        self.assertEqual(hand.value(), 12)"
   ],
   "outputs": [],
   "metadata": {}
  },
  {
   "cell_type": "code",
   "execution_count": null,
   "source": [],
   "outputs": [],
   "metadata": {}
  }
 ],
 "metadata": {
  "orig_nbformat": 4,
  "language_info": {
   "name": "python",
   "version": "3.9.6",
   "mimetype": "text/x-python",
   "codemirror_mode": {
    "name": "ipython",
    "version": 3
   },
   "pygments_lexer": "ipython3",
   "nbconvert_exporter": "python",
   "file_extension": ".py"
  },
  "kernelspec": {
   "name": "python3",
   "display_name": "Python 3.9.6 64-bit"
  },
  "interpreter": {
   "hash": "aee8b7b246df8f9039afb4144a1f6fd8d2ca17a180786b69acc140d282b71a49"
  }
 },
 "nbformat": 4,
 "nbformat_minor": 2
}